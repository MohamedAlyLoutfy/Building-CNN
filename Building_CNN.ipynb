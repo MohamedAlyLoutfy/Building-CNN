{
  "nbformat": 4,
  "nbformat_minor": 0,
  "metadata": {
    "coursera": {
      "course_slug": "convolutional-neural-networks",
      "graded_item_id": "qO8ng",
      "launcher_item_id": "7XDi8"
    },
    "kernelspec": {
      "display_name": "Python 3",
      "language": "python",
      "name": "python3"
    },
    "language_info": {
      "codemirror_mode": {
        "name": "ipython",
        "version": 3
      },
      "file_extension": ".py",
      "mimetype": "text/x-python",
      "name": "python",
      "nbconvert_exporter": "python",
      "pygments_lexer": "ipython3",
      "version": "3.6.0"
    },
    "colab": {
      "name": "Building-CNN.ipynb",
      "provenance": [],
      "collapsed_sections": []
    }
  },
  "cells": [
    {
      "cell_type": "code",
      "metadata": {
        "collapsed": true,
        "id": "lok_gl7OC_qb"
      },
      "source": [
        "import numpy as np\n",
        "import h5py\n",
        "import matplotlib.pyplot as plt\n",
        "\n",
        "%matplotlib inline\n",
        "plt.rcParams['figure.figsize'] = (5.0, 4.0) # set default size of plots\n",
        "plt.rcParams['image.interpolation'] = 'nearest'\n",
        "plt.rcParams['image.cmap'] = 'gray'\n",
        "\n",
        "%load_ext autoreload\n",
        "%autoreload 2\n",
        "\n",
        "np.random.seed(1)"
      ],
      "execution_count": null,
      "outputs": []
    },
    {
      "cell_type": "code",
      "metadata": {
        "collapsed": true,
        "id": "hLtPKgv8C_qk"
      },
      "source": [
        "\n",
        "def zero_pad(X, pad):\n",
        "\n",
        "    \n",
        " \n",
        "    X_pad = np.pad(X, ((0,0), (pad,pad), (pad,pad),  (0,0)), mode='constant', constant_values = (0,0))\n",
        "    \n",
        "    return X_pad"
      ],
      "execution_count": null,
      "outputs": []
    },
    {
      "cell_type": "code",
      "metadata": {
        "id": "bWhE2KC7C_ql",
        "outputId": "22baad5c-c3cb-4a05-8299-d051cbeb5539"
      },
      "source": [
        "np.random.seed(1)\n",
        "x = np.random.randn(4, 3, 3, 2)\n",
        "x_pad = zero_pad(x, 2)\n",
        "print (\"x.shape =\\n\", x.shape)\n",
        "print (\"x_pad.shape =\\n\", x_pad.shape)\n",
        "print (\"x[1,1] =\\n\", x[1,1])\n",
        "print (\"x_pad[1,1] =\\n\", x_pad[1,1])\n",
        "\n",
        "fig, axarr = plt.subplots(1, 2)\n",
        "axarr[0].set_title('x')\n",
        "axarr[0].imshow(x[0,:,:,0])\n",
        "axarr[1].set_title('x_pad')\n",
        "axarr[1].imshow(x_pad[0,:,:,0])"
      ],
      "execution_count": null,
      "outputs": [
        {
          "output_type": "stream",
          "text": [
            "x.shape =\n",
            " (4, 3, 3, 2)\n",
            "x_pad.shape =\n",
            " (4, 7, 7, 2)\n",
            "x[1,1] =\n",
            " [[ 0.90085595 -0.68372786]\n",
            " [-0.12289023 -0.93576943]\n",
            " [-0.26788808  0.53035547]]\n",
            "x_pad[1,1] =\n",
            " [[ 0.  0.]\n",
            " [ 0.  0.]\n",
            " [ 0.  0.]\n",
            " [ 0.  0.]\n",
            " [ 0.  0.]\n",
            " [ 0.  0.]\n",
            " [ 0.  0.]]\n"
          ],
          "name": "stdout"
        },
        {
          "output_type": "execute_result",
          "data": {
            "text/plain": [
              "<matplotlib.image.AxesImage at 0x7fc76d1ebcc0>"
            ]
          },
          "metadata": {
            "tags": []
          },
          "execution_count": 5
        },
        {
          "output_type": "display_data",
          "data": {
            "image/png": "[encoded data removed]",
            "text/plain": [
              "<matplotlib.figure.Figure at 0x7fc744232f98>"
            ]
          },
          "metadata": {
            "tags": []
          }
        }
      ]
    },
    {
      "cell_type": "code",
      "metadata": {
        "collapsed": true,
        "id": "OQUVuN1vC_qv"
      },
      "source": [
        "\n",
        "def conv_single_step(a_slice_prev, W, b):\n",
        "   \n",
        "\n",
        "    s = a_slice_prev * W\n",
        "    Z = np.sum(s)\n",
        "    Z = float(Z + b)\n",
        "   \n",
        "\n",
        "    return Z"
      ],
      "execution_count": null,
      "outputs": []
    },
    {
      "cell_type": "code",
      "metadata": {
        "id": "qmDZU14nC_qw",
        "outputId": "7888b143-ef5f-4d5e-fc87-34d052e93512"
      },
      "source": [
        "np.random.seed(1)\n",
        "a_slice_prev = np.random.randn(4, 4, 3)\n",
        "W = np.random.randn(4, 4, 3)\n",
        "b = np.random.randn(1, 1, 1)\n",
        "\n",
        "Z = conv_single_step(a_slice_prev, W, b)\n",
        "print(\"Z =\", Z)"
      ],
      "execution_count": null,
      "outputs": [
        {
          "output_type": "stream",
          "text": [
            "Z = -6.999089450680221\n"
          ],
          "name": "stdout"
        }
      ]
    },
    {
      "cell_type": "code",
      "metadata": {
        "collapsed": true,
        "id": "tiL1WsGwC_q2"
      },
      "source": [
        "\n",
        "def conv_forward(A_prev, W, b, hparameters):\n",
        "   \n",
        "    (m, n_H_prev, n_W_prev, n_C_prev) = np.shape(A_prev)\n",
        "    \n",
        "\n",
        "    (f, f, n_C_prev, n_C) = np.shape(W)\n",
        "    \n",
        "   \n",
        "    stride = hparameters['stride']\n",
        "    pad = hparameters['pad']\n",
        "\n",
        "    n_H = int(((n_H_prev-f+2*pad)/stride))+1\n",
        "    n_W = int(((n_W_prev-f+2*pad)/stride))+1\n",
        "    \n",
        "    Z = np.zeros((m,n_H,n_W,n_C))\n",
        "    \n",
        "    A_prev_pad = zero_pad(A_prev, pad)\n",
        "    \n",
        "    for i in range(m):               \n",
        "        a_prev_pad = A_prev_pad[i,:,:,:]              \n",
        "        for h in range(n_H):           \n",
        "            vert_start = h*stride\n",
        "            vert_end = h*stride+f\n",
        "            \n",
        "            for w in range(n_W):      \n",
        "                horiz_start = w*stride\n",
        "                horiz_end = w*stride+f\n",
        "                \n",
        "                for c in range(n_C):  \n",
        "                    a_slice_prev = a_prev_pad[vert_start:vert_end,horiz_start:horiz_end,:]\n",
        "                    \n",
        "                    weights = W[:,:,:,c]\n",
        "                    biases = b[:,:,:,c]\n",
        "                    Z[i, h, w, c] = conv_single_step(a_slice_prev,weights, biases)\n",
        "                                        \n",
        "\n",
        "    assert(Z.shape == (m, n_H, n_W, n_C))\n",
        "    \n",
        "   \n",
        "    cache = (A_prev, W, b, hparameters)\n",
        "    \n",
        "    return Z, cache"
      ],
      "execution_count": null,
      "outputs": []
    },
    {
      "cell_type": "code",
      "metadata": {
        "id": "1g8dk-90C_q3",
        "outputId": "8728e2c1-65d3-480d-c81e-e7a37f069010"
      },
      "source": [
        "np.random.seed(1)\n",
        "A_prev = np.random.randn(10,5,7,4)\n",
        "W = np.random.randn(3,3,4,8)\n",
        "b = np.random.randn(1,1,1,8)\n",
        "hparameters = {\"pad\" : 1,\n",
        "               \"stride\": 2}\n",
        "\n",
        "Z, cache_conv = conv_forward(A_prev, W, b, hparameters)\n",
        "print(\"Z's mean =\\n\", np.mean(Z))\n",
        "print(\"Z[3,2,1] =\\n\", Z[3,2,1])\n",
        "print(\"cache_conv[0][1][2][3] =\\n\", cache_conv[0][1][2][3])"
      ],
      "execution_count": null,
      "outputs": [
        {
          "output_type": "stream",
          "text": [
            "Z's mean =\n",
            " 0.692360880758\n",
            "Z[3,2,1] =\n",
            " [ -1.28912231   2.27650251   6.61941931   0.95527176   8.25132576\n",
            "   2.31329639  13.00689405   2.34576051]\n",
            "cache_conv[0][1][2][3] =\n",
            " [-1.1191154   1.9560789  -0.3264995  -1.34267579]\n"
          ],
          "name": "stdout"
        }
      ]
    },
    {
      "cell_type": "code",
      "metadata": {
        "collapsed": true,
        "id": "CNnvmCmTC_q6"
      },
      "source": [
        "\n",
        "\n",
        "def pool_forward(A_prev, hparameters, mode = \"max\"):\n",
        "   \n",
        "    (m, n_H_prev, n_W_prev, n_C_prev) = A_prev.shape\n",
        "    \n",
        "    f = hparameters[\"f\"]\n",
        "    stride = hparameters[\"stride\"]\n",
        "    \n",
        "    n_H = int(1 + (n_H_prev - f) / stride)\n",
        "    n_W = int(1 + (n_W_prev - f) / stride)\n",
        "    n_C = n_C_prev\n",
        "    \n",
        "    A = np.zeros((m, n_H, n_W, n_C))              \n",
        "    \n",
        "    for i in range(m):                         \n",
        "        for h in range(n_H):                     \n",
        "            vert_start = h*stride\n",
        "            vert_end = h*stride +1\n",
        "            \n",
        "            for w in range(n_W):                \n",
        "                horiz_start = w*stride\n",
        "                horiz_end = w*stride +1\n",
        "                \n",
        "                for c in range (n_C):          \n",
        "                    a_prev_slice = A_prev[i, vert_start:vert_end, horiz_start:horiz_end,c]\n",
        "                    \n",
        "                   \n",
        "                    if mode == \"max\":\n",
        "                        A[i, h, w, c] = np.max(a_prev_slice)\n",
        "                    elif mode == \"average\":\n",
        "                        A[i, h, w, c] = np.mean(a_prev_slice)\n",
        "    \n",
        "  \n",
        "    cache = (A_prev, hparameters)\n",
        "    \n",
        "    assert(A.shape == (m, n_H, n_W, n_C))\n",
        "    \n",
        "    return A, cache"
      ],
      "execution_count": null,
      "outputs": []
    },
    {
      "cell_type": "code",
      "metadata": {
        "id": "KWKdC47UC_q8",
        "outputId": "fae64f23-f9fb-423d-e38b-f917bfab3fea"
      },
      "source": [
        "np.random.seed(1)\n",
        "A_prev = np.random.randn(2, 5, 5, 3)\n",
        "hparameters = {\"stride\" : 1, \"f\": 3}\n",
        "\n",
        "A, cache = pool_forward(A_prev, hparameters)\n",
        "print(\"mode = max\")\n",
        "print(\"A.shape = \" + str(A.shape))\n",
        "print(\"A =\\n\", A)\n",
        "print()\n",
        "A, cache = pool_forward(A_prev, hparameters, mode = \"average\")\n",
        "print(\"mode = average\")\n",
        "print(\"A.shape = \" + str(A.shape))\n",
        "print(\"A =\\n\", A)"
      ],
      "execution_count": null,
      "outputs": [
        {
          "output_type": "stream",
          "text": [
            "mode = max\n",
            "A.shape = (2, 3, 3, 3)\n",
            "A =\n",
            " [[[[ 1.62434536 -0.61175641 -0.52817175]\n",
            "   [-1.07296862  0.86540763 -2.3015387 ]\n",
            "   [ 1.74481176 -0.7612069   0.3190391 ]]\n",
            "\n",
            "  [[-1.09989127 -0.17242821 -0.87785842]\n",
            "   [ 0.04221375  0.58281521 -1.10061918]\n",
            "   [ 1.14472371  0.90159072  0.50249434]]\n",
            "\n",
            "  [[-0.69166075 -0.39675353 -0.6871727 ]\n",
            "   [-0.84520564 -0.67124613 -0.0126646 ]\n",
            "   [-1.11731035  0.2344157   1.65980218]]]\n",
            "\n",
            "\n",
            " [[[-2.02220122 -0.30620401  0.82797464]\n",
            "   [ 0.23009474  0.76201118 -0.22232814]\n",
            "   [-0.20075807  0.18656139  0.41005165]]\n",
            "\n",
            "  [[ 1.19891788  0.18515642 -0.37528495]\n",
            "   [-0.63873041  0.42349435  0.07734007]\n",
            "   [-0.34385368  0.04359686 -0.62000084]]\n",
            "\n",
            "  [[ 0.16938243  0.74055645 -0.9537006 ]\n",
            "   [-0.26621851  0.03261455 -1.37311732]\n",
            "   [ 0.31515939  0.84616065 -0.85951594]]]]\n",
            "\n",
            "mode = average\n",
            "A.shape = (2, 3, 3, 3)\n",
            "A =\n",
            " [[[[ 1.62434536 -0.61175641 -0.52817175]\n",
            "   [-1.07296862  0.86540763 -2.3015387 ]\n",
            "   [ 1.74481176 -0.7612069   0.3190391 ]]\n",
            "\n",
            "  [[-1.09989127 -0.17242821 -0.87785842]\n",
            "   [ 0.04221375  0.58281521 -1.10061918]\n",
            "   [ 1.14472371  0.90159072  0.50249434]]\n",
            "\n",
            "  [[-0.69166075 -0.39675353 -0.6871727 ]\n",
            "   [-0.84520564 -0.67124613 -0.0126646 ]\n",
            "   [-1.11731035  0.2344157   1.65980218]]]\n",
            "\n",
            "\n",
            " [[[-2.02220122 -0.30620401  0.82797464]\n",
            "   [ 0.23009474  0.76201118 -0.22232814]\n",
            "   [-0.20075807  0.18656139  0.41005165]]\n",
            "\n",
            "  [[ 1.19891788  0.18515642 -0.37528495]\n",
            "   [-0.63873041  0.42349435  0.07734007]\n",
            "   [-0.34385368  0.04359686 -0.62000084]]\n",
            "\n",
            "  [[ 0.16938243  0.74055645 -0.9537006 ]\n",
            "   [-0.26621851  0.03261455 -1.37311732]\n",
            "   [ 0.31515939  0.84616065 -0.85951594]]]]\n"
          ],
          "name": "stdout"
        }
      ]
    },
    {
      "cell_type": "code",
      "metadata": {
        "collapsed": true,
        "id": "7-BaJAPYC_q-"
      },
      "source": [
        "np.random.seed(1)\n",
        "A_prev = np.random.randn(2, 5, 5, 3)\n",
        "hparameters = {\"stride\" : 2, \"f\": 3}\n",
        "\n",
        "A, cache = pool_forward(A_prev, hparameters)\n",
        "print(\"mode = max\")\n",
        "print(\"A.shape = \" + str(A.shape))\n",
        "print(\"A =\\n\", A)\n",
        "print()\n",
        "\n",
        "A, cache = pool_forward(A_prev, hparameters, mode = \"average\")\n",
        "print(\"mode = average\")\n",
        "print(\"A.shape = \" + str(A.shape))\n",
        "print(\"A =\\n\", A)"
      ],
      "execution_count": null,
      "outputs": []
    },
    {
      "cell_type": "code",
      "metadata": {
        "collapsed": true,
        "id": "YxLTRFBlC_rC"
      },
      "source": [
        "def conv_backward(dZ, cache):\n",
        "   \n",
        "    (A_prev, W, b, hparameters) = None\n",
        "    \n",
        "   \n",
        "    (m, n_H_prev, n_W_prev, n_C_prev) = None\n",
        "    \n",
        "    (f, f, n_C_prev, n_C) = None\n",
        "    \n",
        "    stride = None\n",
        "    pad = None\n",
        "    \n",
        "    (m, n_H, n_W, n_C) = None\n",
        "    \n",
        "    dA_prev = None                           \n",
        "    dW = None\n",
        "    db = None\n",
        "\n",
        "    A_prev_pad = None\n",
        "    dA_prev_pad = None\n",
        "    \n",
        "    for i in range(None):                      \n",
        "        a_prev_pad = None\n",
        "        da_prev_pad = None\n",
        "        \n",
        "        for h in range(None):                   \n",
        "            for w in range(None):               \n",
        "                for c in range(None):        \n",
        "                    \n",
        "                    vert_start = None\n",
        "                    vert_end = None\n",
        "                    horiz_start = None\n",
        "                    horiz_end = None\n",
        "                  \n",
        "                    a_slice = None\n",
        "\n",
        "                   \n",
        "                    da_prev_pad[vert_start:vert_end, horiz_start:horiz_end, :] += None\n",
        "                    dW[:,:,:,c] += None\n",
        "                    db[:,:,:,c] += None\n",
        "                    \n",
        "        \n",
        "        dA_prev[i, :, :, :] = None\n",
        "    \n",
        "    assert(dA_prev.shape == (m, n_H_prev, n_W_prev, n_C_prev))\n",
        "    \n",
        "    return dA_prev, dW, db"
      ],
      "execution_count": null,
      "outputs": []
    },
    {
      "cell_type": "code",
      "metadata": {
        "collapsed": true,
        "scrolled": true,
        "id": "jzCDkGzWC_rD"
      },
      "source": [
        "\n",
        "np.random.seed(1)\n",
        "A_prev = np.random.randn(10,4,4,3)\n",
        "W = np.random.randn(2,2,3,8)\n",
        "b = np.random.randn(1,1,1,8)\n",
        "hparameters = {\"pad\" : 2,\n",
        "               \"stride\": 2}\n",
        "Z, cache_conv = conv_forward(A_prev, W, b, hparameters)\n",
        "\n",
        "dA, dW, db = conv_backward(Z, cache_conv)\n",
        "print(\"dA_mean =\", np.mean(dA))\n",
        "print(\"dW_mean =\", np.mean(dW))\n",
        "print(\"db_mean =\", np.mean(db))"
      ],
      "execution_count": null,
      "outputs": []
    },
    {
      "cell_type": "code",
      "metadata": {
        "collapsed": true,
        "id": "lloZiHCwC_rF"
      },
      "source": [
        "def create_mask_from_window(x):\n",
        "\n",
        "    \n",
        "    \n",
        "    mask = None\n",
        " \n",
        "    \n",
        "    return mask"
      ],
      "execution_count": null,
      "outputs": []
    },
    {
      "cell_type": "code",
      "metadata": {
        "collapsed": true,
        "scrolled": true,
        "id": "OFyVEINoC_rG"
      },
      "source": [
        "np.random.seed(1)\n",
        "x = np.random.randn(2,3)\n",
        "mask = create_mask_from_window(x)\n",
        "print('x = ', x)\n",
        "print(\"mask = \", mask)"
      ],
      "execution_count": null,
      "outputs": []
    },
    {
      "cell_type": "code",
      "metadata": {
        "collapsed": true,
        "id": "WN1QoE2EC_rH"
      },
      "source": [
        "def distribute_value(dz, shape):\n",
        "\n",
        "    (n_H, n_W) = None\n",
        "    \n",
        "    \n",
        "    average = None\n",
        "    \n",
        "   \n",
        "    a = None\n",
        "  \n",
        "    \n",
        "    return a"
      ],
      "execution_count": null,
      "outputs": []
    },
    {
      "cell_type": "code",
      "metadata": {
        "collapsed": true,
        "id": "vwcoEINOC_rH"
      },
      "source": [
        "a = distribute_value(2, (2,2))\n",
        "print('distributed value =', a)"
      ],
      "execution_count": null,
      "outputs": []
    },
    {
      "cell_type": "code",
      "metadata": {
        "collapsed": true,
        "id": "o0w3ykkUC_rI"
      },
      "source": [
        "def pool_backward(dA, cache, mode = \"max\"):\n",
        "\n",
        "    (A_prev, hparameters) = None\n",
        "    \n",
        "    \n",
        "    stride = None\n",
        "    f = None\n",
        "    \n",
        "    \n",
        "    m, n_H_prev, n_W_prev, n_C_prev = None\n",
        "    m, n_H, n_W, n_C = None\n",
        "    \n",
        "    dA_prev = None\n",
        "    \n",
        "    for i in range(None):                      \n",
        "        a_prev = None\n",
        "        \n",
        "        for h in range(None):                   \n",
        "            for w in range(None):               \n",
        "                for c in range(None):           \n",
        "                    \n",
        "                    vert_start = None\n",
        "                    vert_end = None\n",
        "                    horiz_start = None\n",
        "                    horiz_end = None\n",
        "                    \n",
        "                    if mode == \"max\":\n",
        "                        \n",
        "                        \n",
        "                        a_prev_slice = None\n",
        "                        \n",
        "                        mask = None\n",
        "                        \n",
        "                        dA_prev[i, vert_start: vert_end, horiz_start: horiz_end, c] += None\n",
        "                        \n",
        "                    elif mode == \"average\":\n",
        "                        \n",
        "                        \n",
        "                        da = None\n",
        "                       \n",
        "                        shape = None\n",
        "                       \n",
        "                        dA_prev[i, vert_start: vert_end, horiz_start: horiz_end, c] += None\n",
        "                        \n",
        "\n",
        "    assert(dA_prev.shape == A_prev.shape)\n",
        "    \n",
        "    return dA_prev"
      ],
      "execution_count": null,
      "outputs": []
    },
    {
      "cell_type": "code",
      "metadata": {
        "collapsed": true,
        "id": "0zqrXdidC_rJ"
      },
      "source": [
        "np.random.seed(1)\n",
        "A_prev = np.random.randn(5, 5, 3, 2)\n",
        "hparameters = {\"stride\" : 1, \"f\": 2}\n",
        "A, cache = pool_forward(A_prev, hparameters)\n",
        "dA = np.random.randn(5, 4, 2, 2)\n",
        "\n",
        "dA_prev = pool_backward(dA, cache, mode = \"max\")\n",
        "print(\"mode = max\")\n",
        "print('mean of dA = ', np.mean(dA))\n",
        "print('dA_prev[1,1] = ', dA_prev[1,1])  \n",
        "print()\n",
        "dA_prev = pool_backward(dA, cache, mode = \"average\")\n",
        "print(\"mode = average\")\n",
        "print('mean of dA = ', np.mean(dA))\n",
        "print('dA_prev[1,1] = ', dA_prev[1,1]) "
      ],
      "execution_count": null,
      "outputs": []
    },
    {
      "cell_type": "code",
      "metadata": {
        "collapsed": true,
        "id": "Tt_7SmNtC_rL"
      },
      "source": [
        ""
      ],
      "execution_count": null,
      "outputs": []
    }
  ]
}